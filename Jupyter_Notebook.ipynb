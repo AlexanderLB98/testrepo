{
    "cells": [
        {
            "cell_type": "markdown",
            "metadata": {},
            "source": "<center>\n    <img src=\"https://cf-courses-data.s3.us.cloud-object-storage.appdomain.cloud/IBMDeveloperSkillsNetwork-DS0105EN-SkillsNetwork/labs/Module2/images/SN_web_lightmode.png\" width=\"300\" alt=\"cognitiveclass.ai logo\">\n</center>\n"
        },
        {
            "cell_type": "markdown",
            "metadata": {},
            "source": "#### Add your code below following the instructions given in the course\n"
        },
        {
            "cell_type": "markdown",
            "metadata": {},
            "source": "# My Jupyter Notebook on IBM Watson Studio"
        },
        {
            "cell_type": "markdown",
            "metadata": {},
            "source": "Name: **Lucas**\nOcupation: Engineer"
        },
        {
            "cell_type": "markdown",
            "metadata": {},
            "source": "*am interested in data science because I want to develop new skills to apply on my current job.*"
        },
        {
            "cell_type": "markdown",
            "metadata": {},
            "source": "### Next code cell will print \"Hello World!\""
        },
        {
            "cell_type": "code",
            "execution_count": 1,
            "metadata": {},
            "outputs": [
                {
                    "name": "stdout",
                    "output_type": "stream",
                    "text": "Hello World!\n"
                }
            ],
            "source": "print(\"Hello World!\")"
        },
        {
            "cell_type": "markdown",
            "metadata": {},
            "source": "This are a few features that can be applied in markdown cells:\n\n* Different types of intending\n* another Example\n\n1. This is another way with numbers\n2. Test\n\n## Smaller headlines\n#### Even Smaller headlines\n\n| Heading | Heading |\n| ----| ----|\n| text   | text |\n| text | text |\n\n\n![Squirrel](data:image/jpeg;base64,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)"
        }
    ],
    "metadata": {
        "kernelspec": {
            "display_name": "Python 3.10",
            "language": "python",
            "name": "python3"
        },
        "language_info": {
            "codemirror_mode": {
                "name": "ipython",
                "version": 3
            },
            "file_extension": ".py",
            "mimetype": "text/x-python",
            "name": "python",
            "nbconvert_exporter": "python",
            "pygments_lexer": "ipython3",
            "version": "3.10.9"
        }
    },
    "nbformat": 4,
    "nbformat_minor": 4
}